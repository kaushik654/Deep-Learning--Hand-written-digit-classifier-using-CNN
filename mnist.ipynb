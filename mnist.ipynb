{
  "nbformat": 4,
  "nbformat_minor": 0,
  "metadata": {
    "colab": {
      "name": "mnist.ipynb",
      "version": "0.3.2",
      "provenance": [],
      "include_colab_link": true
    },
    "kernelspec": {
      "name": "python3",
      "display_name": "Python 3"
    },
    "accelerator": "GPU"
  },
  "cells": [
    {
      "cell_type": "markdown",
      "metadata": {
        "id": "view-in-github",
        "colab_type": "text"
      },
      "source": [
        "<a href=\"https://colab.research.google.com/github/kaushik654/Deep-Learning--Hand-written-digit-classifier-using-CNN/blob/master/mnist.ipynb\" target=\"_parent\"><img src=\"https://colab.research.google.com/assets/colab-badge.svg\" alt=\"Open In Colab\"/></a>"
      ]
    },
    {
      "cell_type": "code",
      "metadata": {
        "id": "0i2XlLNRJAKV",
        "colab_type": "code",
        "outputId": "f66d2dc8-772c-47d7-c8fe-32f5c0eb1d28",
        "colab": {
          "base_uri": "https://localhost:8080/",
          "height": 35
        }
      },
      "source": [
        "import numpy as np\n",
        "import matplotlib.pyplot as plt\n",
        "from sklearn import datasets\n",
        "import keras\n",
        "from keras.models import Sequential\n",
        "from keras.layers import Dense\n",
        "from keras.optimizers import Adam\n",
        "from keras.utils.np_utils import to_categorical\n",
        "from keras.datasets import mnist\n",
        "from keras.layers import Flatten\n",
        "from keras.layers import Dropout\n",
        "from keras.models import Model\n",
        "from keras.layers.convolutional import Conv2D\n",
        "from keras.layers.convolutional import MaxPooling2D\n",
        "import random\n",
        "import matplotlib.image as mping\n"
      ],
      "execution_count": 0,
      "outputs": [
        {
          "output_type": "stream",
          "text": [
            "Using TensorFlow backend.\n"
          ],
          "name": "stderr"
        }
      ]
    },
    {
      "cell_type": "code",
      "metadata": {
        "id": "g2JWlYkxK5FO",
        "colab_type": "code",
        "colab": {}
      },
      "source": [
        "np.random.seed(0)"
      ],
      "execution_count": 0,
      "outputs": []
    },
    {
      "cell_type": "code",
      "metadata": {
        "id": "y0t3AKv7LFbj",
        "colab_type": "code",
        "colab": {}
      },
      "source": [
        "data=mnist.load_data()"
      ],
      "execution_count": 0,
      "outputs": []
    },
    {
      "cell_type": "code",
      "metadata": {
        "id": "ePOFpLoeLLr9",
        "colab_type": "code",
        "outputId": "4a045981-02d1-48b4-c4c5-267f1a46aa05",
        "colab": {
          "base_uri": "https://localhost:8080/",
          "height": 35
        }
      },
      "source": [
        "len(data)"
      ],
      "execution_count": 0,
      "outputs": [
        {
          "output_type": "execute_result",
          "data": {
            "text/plain": [
              "2"
            ]
          },
          "metadata": {
            "tags": []
          },
          "execution_count": 5
        }
      ]
    },
    {
      "cell_type": "code",
      "metadata": {
        "id": "IrZ2HtT1LOPj",
        "colab_type": "code",
        "colab": {}
      },
      "source": [
        "(x_train,y_train),(x_test,y_test)=data"
      ],
      "execution_count": 0,
      "outputs": []
    },
    {
      "cell_type": "code",
      "metadata": {
        "id": "RRcn7wASMgKV",
        "colab_type": "code",
        "outputId": "07af549f-e314-4305-e70e-a52e17a9ed83",
        "colab": {
          "base_uri": "https://localhost:8080/",
          "height": 35
        }
      },
      "source": [
        "len(x_train)"
      ],
      "execution_count": 0,
      "outputs": [
        {
          "output_type": "execute_result",
          "data": {
            "text/plain": [
              "60000"
            ]
          },
          "metadata": {
            "tags": []
          },
          "execution_count": 7
        }
      ]
    },
    {
      "cell_type": "code",
      "metadata": {
        "id": "QO2LQwGtOlKb",
        "colab_type": "code",
        "outputId": "9984dd32-ec6c-4667-ec02-83d449a6aba8",
        "colab": {
          "base_uri": "https://localhost:8080/",
          "height": 287
        }
      },
      "source": [
        "plt.imshow(x_train[0],cmap=\"gray\")\n",
        "y_train[0]"
      ],
      "execution_count": 0,
      "outputs": [
        {
          "output_type": "execute_result",
          "data": {
            "text/plain": [
              "5"
            ]
          },
          "metadata": {
            "tags": []
          },
          "execution_count": 8
        },
        {
          "output_type": "display_data",
          "data": {
            "image/png": "[encoded data removed]",
            "text/plain": [
              "<Figure size 432x288 with 1 Axes>"
            ]
          },
          "metadata": {
            "tags": []
          }
        }
      ]
    },
    {
      "cell_type": "code",
      "metadata": {
        "id": "qGodv_VsPC2N",
        "colab_type": "code",
        "outputId": "bb3b3b44-0475-4be1-92f7-ccd47374a1e1",
        "colab": {
          "base_uri": "https://localhost:8080/",
          "height": 52
        }
      },
      "source": [
        "print(x_train.shape)\n",
        "print(y_train.shape)"
      ],
      "execution_count": 0,
      "outputs": [
        {
          "output_type": "stream",
          "text": [
            "(60000, 28, 28)\n",
            "(60000,)\n"
          ],
          "name": "stdout"
        }
      ]
    },
    {
      "cell_type": "code",
      "metadata": {
        "id": "KIt4-CY0PVku",
        "colab_type": "code",
        "colab": {}
      },
      "source": [
        ""
      ],
      "execution_count": 0,
      "outputs": []
    },
    {
      "cell_type": "code",
      "metadata": {
        "id": "1X-9DWzmPclz",
        "colab_type": "code",
        "outputId": "2153e8a7-c451-4cc2-c591-f67641707304",
        "colab": {
          "base_uri": "https://localhost:8080/",
          "height": 735
        }
      },
      "source": [
        "num_of_samples=[]\n",
        "cols=5\n",
        "num_class=10\n",
        "fig,axs=plt.subplots(nrows=num_class,ncols=cols,figsize=(5,10))\n",
        "fig.tight_layout()\n",
        "\n",
        "for i in range(cols):\n",
        "  for j in range(num_class):\n",
        "    x_selected=x_train[y_train==j]\n",
        "    axs[j][i].imshow(x_selected[random.randint(0,(len(x_selected)-1)),:,:],cmap=plt.get_cmap(\"gray\"))\n",
        "    axs[j][i].axis(\"off\")\n",
        "    if i==2:\n",
        "      axs[j][i].set_title(str(j))\n",
        "      num_of_samples.append(len(x_selected))\n",
        " "
      ],
      "execution_count": 0,
      "outputs": [
        {
          "output_type": "display_data",
          "data": {
            "image/png": "[encoded data removed]",
            "text/plain": [
              "<Figure size 360x720 with 50 Axes>"
            ]
          },
          "metadata": {
            "tags": []
          }
        }
      ]
    },
    {
      "cell_type": "code",
      "metadata": {
        "id": "P6c6AUztSmUc",
        "colab_type": "code",
        "outputId": "690bab5c-27fc-43d6-e0a4-ffc53720ebf2",
        "colab": {
          "base_uri": "https://localhost:8080/",
          "height": 333
        }
      },
      "source": [
        "print(num_of_samples)\n",
        "plt.figure(figsize=(12,4))\n",
        "plt.bar(range(0,num_class),num_of_samples)\n",
        "plt.title(\"Distribution of train datasets\")\n",
        "plt.xlabel(\"Class number\")\n",
        "plt.ylabel(\"Number of images\")\n",
        "plt.show()"
      ],
      "execution_count": 0,
      "outputs": [
        {
          "output_type": "stream",
          "text": [
            "[5923, 6742, 5958, 6131, 5842, 5421, 5918, 6265, 5851, 5949]\n"
          ],
          "name": "stdout"
        },
        {
          "output_type": "display_data",
          "data": {
            "image/png": "[encoded data removed]",
            "text/plain": [
              "<Figure size 864x288 with 1 Axes>"
            ]
          },
          "metadata": {
            "tags": []
          }
        }
      ]
    },
    {
      "cell_type": "code",
      "metadata": {
        "id": "0G0cPSejSSCT",
        "colab_type": "code",
        "colab": {}
      },
      "source": [
        "x_train=x_train.reshape(-1,28,28,1)\n",
        "x_test=x_test.reshape(-1,28,28,1)"
      ],
      "execution_count": 0,
      "outputs": []
    },
    {
      "cell_type": "code",
      "metadata": {
        "id": "2K_aTfoYV2aq",
        "colab_type": "code",
        "colab": {}
      },
      "source": [
        "y_train=to_categorical(y_train,10) #encoding in 1hot"
      ],
      "execution_count": 0,
      "outputs": []
    },
    {
      "cell_type": "code",
      "metadata": {
        "id": "So1VUz5mXYbx",
        "colab_type": "code",
        "colab": {}
      },
      "source": [
        "x_train=x_train/255\n",
        "x_test=x_test/255"
      ],
      "execution_count": 0,
      "outputs": []
    },
    {
      "cell_type": "code",
      "metadata": {
        "id": "Ia27132LYis0",
        "colab_type": "code",
        "colab": {}
      },
      "source": [
        "def le_net():\n",
        "  model=Sequential()\n",
        "  model.add(Conv2D(30,(5,5),input_shape=(28,28,1),activation=\"relu\"))\n",
        "  model.add(MaxPooling2D(pool_size=(2,2)))\n",
        "  model.add(Conv2D(15,(3,3),activation=\"relu\"))\n",
        "  model.add(MaxPooling2D(pool_size=(2,2)))\n",
        "  model.add(Flatten())\n",
        "  model.add((Dense(500,activation=\"relu\")))\n",
        "  model.add(Dropout(0.5))\n",
        "  model.add(Dropout(0.5))\n",
        "  model.add(Dense(num_class,activation=\"softmax\"))\n",
        "  model.compile(Adam(lr=0.001),loss=\"categorical_crossentropy\",metrics=[\"accuracy\"])\n",
        "  return model\n",
        "            "
      ],
      "execution_count": 0,
      "outputs": []
    },
    {
      "cell_type": "code",
      "metadata": {
        "id": "JvqHqBa6bFKj",
        "colab_type": "code",
        "outputId": "5ccc47ca-62c7-41c6-fb1b-d1fa9116876f",
        "colab": {
          "base_uri": "https://localhost:8080/",
          "height": 435
        }
      },
      "source": [
        "lenet=le_net()\n",
        "lenet.summary() #28-5-+1\n"
      ],
      "execution_count": 0,
      "outputs": [
        {
          "output_type": "stream",
          "text": [
            "_________________________________________________________________\n",
            "Layer (type)                 Output Shape              Param #   \n",
            "=================================================================\n",
            "conv2d_3 (Conv2D)            (None, 24, 24, 30)        780       \n",
            "_________________________________________________________________\n",
            "max_pooling2d_3 (MaxPooling2 (None, 12, 12, 30)        0         \n",
            "_________________________________________________________________\n",
            "conv2d_4 (Conv2D)            (None, 10, 10, 15)        4065      \n",
            "_________________________________________________________________\n",
            "max_pooling2d_4 (MaxPooling2 (None, 5, 5, 15)          0         \n",
            "_________________________________________________________________\n",
            "flatten_2 (Flatten)          (None, 375)               0         \n",
            "_________________________________________________________________\n",
            "dense_3 (Dense)              (None, 500)               188000    \n",
            "_________________________________________________________________\n",
            "dropout_3 (Dropout)          (None, 500)               0         \n",
            "_________________________________________________________________\n",
            "dropout_4 (Dropout)          (None, 500)               0         \n",
            "_________________________________________________________________\n",
            "dense_4 (Dense)              (None, 10)                5010      \n",
            "=================================================================\n",
            "Total params: 197,855\n",
            "Trainable params: 197,855\n",
            "Non-trainable params: 0\n",
            "_________________________________________________________________\n"
          ],
          "name": "stdout"
        }
      ]
    },
    {
      "cell_type": "code",
      "metadata": {
        "id": "4bjaqFwkhKWU",
        "colab_type": "code",
        "outputId": "1a860e89-5dab-42bf-eada-ae6b143ef303",
        "colab": {
          "base_uri": "https://localhost:8080/",
          "height": 1000
        }
      },
      "source": [
        "history=lenet.fit(x_train,y_train,epochs=50,validation_split=0.1,batch_size=400,verbose=1,shuffle=1)"
      ],
      "execution_count": 0,
      "outputs": [
        {
          "output_type": "stream",
          "text": [
            "Train on 54000 samples, validate on 6000 samples\n",
            "Epoch 1/50\n",
            "54000/54000 [==============================] - 2s 42us/step - loss: 0.0476 - acc: 0.9855 - val_loss: 0.0328 - val_acc: 0.9908\n",
            "Epoch 2/50\n",
            "54000/54000 [==============================] - 2s 40us/step - loss: 0.0436 - acc: 0.9866 - val_loss: 0.0317 - val_acc: 0.9913\n",
            "Epoch 3/50\n",
            "54000/54000 [==============================] - 2s 40us/step - loss: 0.0421 - acc: 0.9872 - val_loss: 0.0315 - val_acc: 0.9908\n",
            "Epoch 4/50\n",
            "54000/54000 [==============================] - 2s 39us/step - loss: 0.0389 - acc: 0.9881 - val_loss: 0.0285 - val_acc: 0.9912\n",
            "Epoch 5/50\n",
            "54000/54000 [==============================] - 2s 39us/step - loss: 0.0374 - acc: 0.9884 - val_loss: 0.0275 - val_acc: 0.9917\n",
            "Epoch 6/50\n",
            "54000/54000 [==============================] - 2s 39us/step - loss: 0.0379 - acc: 0.9878 - val_loss: 0.0285 - val_acc: 0.9920\n",
            "Epoch 7/50\n",
            "54000/54000 [==============================] - 2s 39us/step - loss: 0.0343 - acc: 0.9893 - val_loss: 0.0301 - val_acc: 0.9918\n",
            "Epoch 8/50\n",
            "54000/54000 [==============================] - 2s 39us/step - loss: 0.0314 - acc: 0.9894 - val_loss: 0.0293 - val_acc: 0.9920\n",
            "Epoch 9/50\n",
            "54000/54000 [==============================] - 2s 39us/step - loss: 0.0334 - acc: 0.9895 - val_loss: 0.0258 - val_acc: 0.9922\n",
            "Epoch 10/50\n",
            "54000/54000 [==============================] - 2s 40us/step - loss: 0.0311 - acc: 0.9896 - val_loss: 0.0258 - val_acc: 0.9915\n",
            "Epoch 11/50\n",
            "54000/54000 [==============================] - 2s 40us/step - loss: 0.0280 - acc: 0.9909 - val_loss: 0.0269 - val_acc: 0.9925\n",
            "Epoch 12/50\n",
            "54000/54000 [==============================] - 2s 40us/step - loss: 0.0278 - acc: 0.9909 - val_loss: 0.0263 - val_acc: 0.9932\n",
            "Epoch 13/50\n",
            "54000/54000 [==============================] - 2s 39us/step - loss: 0.0252 - acc: 0.9920 - val_loss: 0.0284 - val_acc: 0.9928\n",
            "Epoch 14/50\n",
            "54000/54000 [==============================] - 2s 38us/step - loss: 0.0260 - acc: 0.9919 - val_loss: 0.0260 - val_acc: 0.9920\n",
            "Epoch 15/50\n",
            "54000/54000 [==============================] - 2s 39us/step - loss: 0.0247 - acc: 0.9921 - val_loss: 0.0263 - val_acc: 0.9922\n",
            "Epoch 16/50\n",
            "54000/54000 [==============================] - 2s 39us/step - loss: 0.0239 - acc: 0.9926 - val_loss: 0.0259 - val_acc: 0.9928\n",
            "Epoch 17/50\n",
            "54000/54000 [==============================] - 2s 39us/step - loss: 0.0220 - acc: 0.9926 - val_loss: 0.0283 - val_acc: 0.9925\n",
            "Epoch 18/50\n",
            "54000/54000 [==============================] - 2s 39us/step - loss: 0.0233 - acc: 0.9925 - val_loss: 0.0273 - val_acc: 0.9927\n",
            "Epoch 19/50\n",
            "54000/54000 [==============================] - 2s 38us/step - loss: 0.0211 - acc: 0.9933 - val_loss: 0.0256 - val_acc: 0.9928\n",
            "Epoch 20/50\n",
            "54000/54000 [==============================] - 2s 38us/step - loss: 0.0206 - acc: 0.9933 - val_loss: 0.0292 - val_acc: 0.9915\n",
            "Epoch 21/50\n",
            "54000/54000 [==============================] - 2s 38us/step - loss: 0.0209 - acc: 0.9928 - val_loss: 0.0310 - val_acc: 0.9913\n",
            "Epoch 22/50\n",
            "54000/54000 [==============================] - 2s 39us/step - loss: 0.0195 - acc: 0.9938 - val_loss: 0.0329 - val_acc: 0.9905\n",
            "Epoch 23/50\n",
            "54000/54000 [==============================] - 2s 39us/step - loss: 0.0185 - acc: 0.9939 - val_loss: 0.0313 - val_acc: 0.9918\n",
            "Epoch 24/50\n",
            "54000/54000 [==============================] - 2s 39us/step - loss: 0.0182 - acc: 0.9942 - val_loss: 0.0297 - val_acc: 0.9920\n",
            "Epoch 25/50\n",
            "54000/54000 [==============================] - 2s 39us/step - loss: 0.0176 - acc: 0.9944 - val_loss: 0.0298 - val_acc: 0.9925\n",
            "Epoch 26/50\n",
            "54000/54000 [==============================] - 2s 39us/step - loss: 0.0176 - acc: 0.9940 - val_loss: 0.0281 - val_acc: 0.9927\n",
            "Epoch 27/50\n",
            "54000/54000 [==============================] - 2s 39us/step - loss: 0.0173 - acc: 0.9943 - val_loss: 0.0290 - val_acc: 0.9920\n",
            "Epoch 28/50\n",
            "54000/54000 [==============================] - 2s 39us/step - loss: 0.0175 - acc: 0.9941 - val_loss: 0.0272 - val_acc: 0.9923\n",
            "Epoch 29/50\n",
            "54000/54000 [==============================] - 2s 39us/step - loss: 0.0154 - acc: 0.9949 - val_loss: 0.0280 - val_acc: 0.9933\n",
            "Epoch 30/50\n",
            "54000/54000 [==============================] - 2s 39us/step - loss: 0.0153 - acc: 0.9946 - val_loss: 0.0282 - val_acc: 0.9937\n",
            "Epoch 31/50\n",
            "54000/54000 [==============================] - 2s 38us/step - loss: 0.0163 - acc: 0.9946 - val_loss: 0.0273 - val_acc: 0.9932\n",
            "Epoch 32/50\n",
            "54000/54000 [==============================] - 2s 39us/step - loss: 0.0157 - acc: 0.9943 - val_loss: 0.0288 - val_acc: 0.9938\n",
            "Epoch 33/50\n",
            "54000/54000 [==============================] - 2s 38us/step - loss: 0.0147 - acc: 0.9948 - val_loss: 0.0289 - val_acc: 0.9923\n",
            "Epoch 34/50\n",
            "54000/54000 [==============================] - 2s 39us/step - loss: 0.0137 - acc: 0.9954 - val_loss: 0.0291 - val_acc: 0.9935\n",
            "Epoch 35/50\n",
            "54000/54000 [==============================] - 2s 39us/step - loss: 0.0136 - acc: 0.9954 - val_loss: 0.0271 - val_acc: 0.9928\n",
            "Epoch 36/50\n",
            "54000/54000 [==============================] - 2s 39us/step - loss: 0.0141 - acc: 0.9953 - val_loss: 0.0283 - val_acc: 0.9925\n",
            "Epoch 37/50\n",
            "54000/54000 [==============================] - 2s 39us/step - loss: 0.0150 - acc: 0.9948 - val_loss: 0.0254 - val_acc: 0.9950\n",
            "Epoch 38/50\n",
            "54000/54000 [==============================] - 2s 39us/step - loss: 0.0136 - acc: 0.9955 - val_loss: 0.0299 - val_acc: 0.9928\n",
            "Epoch 39/50\n",
            "54000/54000 [==============================] - 2s 39us/step - loss: 0.0140 - acc: 0.9950 - val_loss: 0.0308 - val_acc: 0.9930\n",
            "Epoch 40/50\n",
            "54000/54000 [==============================] - 2s 38us/step - loss: 0.0126 - acc: 0.9954 - val_loss: 0.0319 - val_acc: 0.9918\n",
            "Epoch 41/50\n",
            "54000/54000 [==============================] - 2s 38us/step - loss: 0.0119 - acc: 0.9957 - val_loss: 0.0311 - val_acc: 0.9925\n",
            "Epoch 42/50\n",
            "54000/54000 [==============================] - 2s 39us/step - loss: 0.0124 - acc: 0.9958 - val_loss: 0.0349 - val_acc: 0.9927\n",
            "Epoch 43/50\n",
            "54000/54000 [==============================] - 2s 38us/step - loss: 0.0115 - acc: 0.9960 - val_loss: 0.0358 - val_acc: 0.9913\n",
            "Epoch 44/50\n",
            "54000/54000 [==============================] - 2s 39us/step - loss: 0.0112 - acc: 0.9961 - val_loss: 0.0328 - val_acc: 0.9932\n",
            "Epoch 45/50\n",
            "54000/54000 [==============================] - 2s 39us/step - loss: 0.0104 - acc: 0.9964 - val_loss: 0.0326 - val_acc: 0.9940\n",
            "Epoch 46/50\n",
            "54000/54000 [==============================] - 2s 38us/step - loss: 0.0122 - acc: 0.9958 - val_loss: 0.0324 - val_acc: 0.9930\n",
            "Epoch 47/50\n",
            "54000/54000 [==============================] - 2s 38us/step - loss: 0.0111 - acc: 0.9961 - val_loss: 0.0323 - val_acc: 0.9933\n",
            "Epoch 48/50\n",
            "54000/54000 [==============================] - 2s 38us/step - loss: 0.0105 - acc: 0.9964 - val_loss: 0.0303 - val_acc: 0.9932\n",
            "Epoch 49/50\n",
            "54000/54000 [==============================] - 2s 39us/step - loss: 0.0104 - acc: 0.9964 - val_loss: 0.0322 - val_acc: 0.9938\n",
            "Epoch 50/50\n",
            "54000/54000 [==============================] - 2s 38us/step - loss: 0.0098 - acc: 0.9964 - val_loss: 0.0345 - val_acc: 0.9927\n"
          ],
          "name": "stdout"
        }
      ]
    },
    {
      "cell_type": "code",
      "metadata": {
        "id": "M5Ikz6O9mEAm",
        "colab_type": "code",
        "colab": {}
      },
      "source": [
        "# TRAINING IS DONE"
      ],
      "execution_count": 0,
      "outputs": []
    },
    {
      "cell_type": "code",
      "metadata": {
        "id": "tcRmntvQm4hb",
        "colab_type": "code",
        "outputId": "07a2c09f-3de5-4a8c-ab06-ebbd1821ddab",
        "colab": {
          "base_uri": "https://localhost:8080/",
          "height": 311
        }
      },
      "source": [
        "plt.plot(history.history['loss'])\n",
        "plt.plot(history.history['val_loss'])\n",
        "plt.legend(['loss','val_loss'])\n",
        "plt.title(\"Loss\")\n",
        "plt.xlabel(\"epoch\")"
      ],
      "execution_count": 0,
      "outputs": [
        {
          "output_type": "execute_result",
          "data": {
            "text/plain": [
              "Text(0.5, 0, 'epoch')"
            ]
          },
          "metadata": {
            "tags": []
          },
          "execution_count": 32
        },
        {
          "output_type": "display_data",
          "data": {
            "image/png": "[encoded data removed]",
            "text/plain": [
              "<Figure size 432x288 with 1 Axes>"
            ]
          },
          "metadata": {
            "tags": []
          }
        }
      ]
    },
    {
      "cell_type": "code",
      "metadata": {
        "id": "updgMfhUo5tf",
        "colab_type": "code",
        "outputId": "6d950f47-36e9-4c81-f835-77c4498c6b1c",
        "colab": {
          "base_uri": "https://localhost:8080/",
          "height": 311
        }
      },
      "source": [
        "plt.plot(history.history['loss'])\n",
        "plt.plot(history.history['val_acc'])\n",
        "plt.legend(['loss','accuracy'])\n",
        "plt.title(\"Loss\")\n",
        "plt.xlabel(\"epoch\")"
      ],
      "execution_count": 0,
      "outputs": [
        {
          "output_type": "execute_result",
          "data": {
            "text/plain": [
              "Text(0.5, 0, 'epoch')"
            ]
          },
          "metadata": {
            "tags": []
          },
          "execution_count": 34
        },
        {
          "output_type": "display_data",
          "data": {
            "image/png": "[encoded data removed]",
            "text/plain": [
              "<Figure size 432x288 with 1 Axes>"
            ]
          },
          "metadata": {
            "tags": []
          }
        }
      ]
    },
    {
      "cell_type": "code",
      "metadata": {
        "id": "n9UaoXCwqSII",
        "colab_type": "code",
        "outputId": "bd1811c7-c31c-4458-c54f-5b75c67e9d0c",
        "colab": {
          "base_uri": "https://localhost:8080/",
          "height": 286
        }
      },
      "source": [
        "import requests as rq\n",
        "from PIL import Image\n",
        "url=\"https://kx.com/images/03_IMAGES/160520-8.png\"\n",
        "response=rq.get(url,stream=True)\n",
        "img=Image.open(response.raw).convert(\"L\")\n",
        "plt.imshow(img,cmap=\"gray\")"
      ],
      "execution_count": 0,
      "outputs": [
        {
          "output_type": "execute_result",
          "data": {
            "text/plain": [
              "<matplotlib.image.AxesImage at 0x7fe2b01c5c50>"
            ]
          },
          "metadata": {
            "tags": []
          },
          "execution_count": 36
        },
        {
          "output_type": "display_data",
          "data": {
            "image/png": "[encoded data removed]",
            "text/plain": [
              "<Figure size 432x288 with 1 Axes>"
            ]
          },
          "metadata": {
            "tags": []
          }
        }
      ]
    },
    {
      "cell_type": "code",
      "metadata": {
        "id": "pEkMkn9xriRJ",
        "colab_type": "code",
        "outputId": "2bafeb61-3bd9-40aa-aedb-a8440a11658f",
        "colab": {
          "base_uri": "https://localhost:8080/",
          "height": 286
        }
      },
      "source": [
        "import cv2\n",
        "img_array=np.asarray(img)\n",
        "res=cv2.resize(img_array,(28,28))\n",
        "plt.imshow(res,cmap=\"gray\")\n"
      ],
      "execution_count": 0,
      "outputs": [
        {
          "output_type": "execute_result",
          "data": {
            "text/plain": [
              "<matplotlib.image.AxesImage at 0x7fe2b00c67f0>"
            ]
          },
          "metadata": {
            "tags": []
          },
          "execution_count": 37
        },
        {
          "output_type": "display_data",
          "data": {
            "image/png": "[encoded data removed]",
            "text/plain": [
              "<Figure size 432x288 with 1 Axes>"
            ]
          },
          "metadata": {
            "tags": []
          }
        }
      ]
    },
    {
      "cell_type": "code",
      "metadata": {
        "id": "EaqJ7lw8sjgm",
        "colab_type": "code",
        "colab": {}
      },
      "source": [
        "res=res/255\n",
        "res=res.reshape(1,28,28,1)"
      ],
      "execution_count": 0,
      "outputs": []
    },
    {
      "cell_type": "code",
      "metadata": {
        "id": "rwzfZYRetclM",
        "colab_type": "code",
        "outputId": "c447f781-dcf6-446c-f321-817a803130a6",
        "colab": {
          "base_uri": "https://localhost:8080/",
          "height": 67
        }
      },
      "source": [
        "lenet.predict(res)"
      ],
      "execution_count": 0,
      "outputs": [
        {
          "output_type": "execute_result",
          "data": {
            "text/plain": [
              "array([[1.9868283e-02, 7.1543345e-04, 6.3609279e-04, 5.1920832e-04,\n",
              "        2.5332024e-02, 8.2197018e-02, 7.4997282e-01, 1.7588781e-02,\n",
              "        9.3588017e-02, 9.5823091e-03]], dtype=float32)"
            ]
          },
          "metadata": {
            "tags": []
          },
          "execution_count": 40
        }
      ]
    },
    {
      "cell_type": "code",
      "metadata": {
        "id": "8JF-Egp6tzOv",
        "colab_type": "code",
        "outputId": "40bc29b2-b5e2-45f5-a320-2ef29c36c2fb",
        "colab": {
          "base_uri": "https://localhost:8080/",
          "height": 33
        }
      },
      "source": [
        "lenet.predict_classes(res)"
      ],
      "execution_count": 0,
      "outputs": [
        {
          "output_type": "execute_result",
          "data": {
            "text/plain": [
              "array([8])"
            ]
          },
          "metadata": {
            "tags": []
          },
          "execution_count": 42
        }
      ]
    }
  ]
}